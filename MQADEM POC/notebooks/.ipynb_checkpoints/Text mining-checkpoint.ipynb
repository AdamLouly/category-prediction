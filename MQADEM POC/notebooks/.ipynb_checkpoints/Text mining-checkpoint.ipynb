{
 "cells": [
  {
   "cell_type": "code",
   "execution_count": 143,
   "metadata": {},
   "outputs": [],
   "source": [
    "import pandas as pd\n",
    "import numpy as np\n",
    "from nltk import sent_tokenize, word_tokenize\n",
    "from nltk.corpus import stopwords\n",
    "from string import punctuation\n",
    "from nltk.stem.snowball import SnowballStemmer\n"
   ]
  },
  {
   "cell_type": "code",
   "execution_count": 4,
   "metadata": {},
   "outputs": [],
   "source": [
    "#Now after we are done with some feature engineering & EDA let's dive into some text mining ! "
   ]
  },
  {
   "cell_type": "code",
   "execution_count": 5,
   "metadata": {},
   "outputs": [],
   "source": [
    "df = pd.read_csv('..//data//procced//eda.csv',encoding='cp1252')"
   ]
  },
  {
   "cell_type": "code",
   "execution_count": 6,
   "metadata": {},
   "outputs": [
    {
     "data": {
      "text/html": [
       "<div>\n",
       "<style scoped>\n",
       "    .dataframe tbody tr th:only-of-type {\n",
       "        vertical-align: middle;\n",
       "    }\n",
       "\n",
       "    .dataframe tbody tr th {\n",
       "        vertical-align: top;\n",
       "    }\n",
       "\n",
       "    .dataframe thead th {\n",
       "        text-align: right;\n",
       "    }\n",
       "</style>\n",
       "<table border=\"1\" class=\"dataframe\">\n",
       "  <thead>\n",
       "    <tr style=\"text-align: right;\">\n",
       "      <th></th>\n",
       "      <th>category</th>\n",
       "      <th>title</th>\n",
       "    </tr>\n",
       "  </thead>\n",
       "  <tbody>\n",
       "    <tr>\n",
       "      <th>0</th>\n",
       "      <td>actualite</td>\n",
       "      <td>pacte mondial sur la migration: l’onu optimist...</td>\n",
       "    </tr>\n",
       "    <tr>\n",
       "      <th>1</th>\n",
       "      <td>afrique</td>\n",
       "      <td>tunisie : les fonctionnaires du public en grèv...</td>\n",
       "    </tr>\n",
       "    <tr>\n",
       "      <th>2</th>\n",
       "      <td>culture</td>\n",
       "      <td>le fima célèbre son 20e anniversaire à dakhla ...</td>\n",
       "    </tr>\n",
       "    <tr>\n",
       "      <th>3</th>\n",
       "      <td>economie</td>\n",
       "      <td>sebta : les visiteurs marocains boostent l’éco...</td>\n",
       "    </tr>\n",
       "    <tr>\n",
       "      <th>4</th>\n",
       "      <td>international</td>\n",
       "      <td>nissan – carlos ghosn révoqué de son poste de ...</td>\n",
       "    </tr>\n",
       "    <tr>\n",
       "      <th>5</th>\n",
       "      <td>maroc</td>\n",
       "      <td>un début de réponse de l’algérie à mohammed vi...</td>\n",
       "    </tr>\n",
       "    <tr>\n",
       "      <th>6</th>\n",
       "      <td>politique</td>\n",
       "      <td>les députés du pps décortiquent le plf 2019 re...</td>\n",
       "    </tr>\n",
       "    <tr>\n",
       "      <th>7</th>\n",
       "      <td>societe</td>\n",
       "      <td>[+212] j’ai pris la meilleure décision de ma v...</td>\n",
       "    </tr>\n",
       "    <tr>\n",
       "      <th>8</th>\n",
       "      <td>sport</td>\n",
       "      <td>football: les lions d’atlas battent la tunisie...</td>\n",
       "    </tr>\n",
       "    <tr>\n",
       "      <th>9</th>\n",
       "      <td>tourisme</td>\n",
       "      <td>signature de jumelage m’diq et la ville frança...</td>\n",
       "    </tr>\n",
       "    <tr>\n",
       "      <th>10</th>\n",
       "      <td>video</td>\n",
       "      <td>le prince d'abu dhabi à paris : les ong demand...</td>\n",
       "    </tr>\n",
       "  </tbody>\n",
       "</table>\n",
       "</div>"
      ],
      "text/plain": [
       "         category                                              title\n",
       "0       actualite  pacte mondial sur la migration: l’onu optimist...\n",
       "1         afrique  tunisie : les fonctionnaires du public en grèv...\n",
       "2         culture  le fima célèbre son 20e anniversaire à dakhla ...\n",
       "3        economie  sebta : les visiteurs marocains boostent l’éco...\n",
       "4   international  nissan – carlos ghosn révoqué de son poste de ...\n",
       "5           maroc  un début de réponse de l’algérie à mohammed vi...\n",
       "6       politique  les députés du pps décortiquent le plf 2019 re...\n",
       "7         societe  [+212] j’ai pris la meilleure décision de ma v...\n",
       "8           sport  football: les lions d’atlas battent la tunisie...\n",
       "9        tourisme  signature de jumelage m’diq et la ville frança...\n",
       "10          video  le prince d'abu dhabi à paris : les ong demand..."
      ]
     },
     "execution_count": 6,
     "metadata": {},
     "output_type": "execute_result"
    }
   ],
   "source": [
    "df"
   ]
  },
  {
   "cell_type": "code",
   "execution_count": 66,
   "metadata": {},
   "outputs": [
    {
     "data": {
      "text/plain": [
       "0     [pacte, mondial, sur, la, migration, :, l, ’, ...\n",
       "1     [tunisie, :, les, fonctionnaires, du, public, ...\n",
       "2     [le, fima, célèbre, son, 20e, anniversaire, à,...\n",
       "3     [sebta, :, les, visiteurs, marocains, boostent...\n",
       "4     [nissan, –, carlos, ghosn, révoqué, de, son, p...\n",
       "5     [un, début, de, réponse, de, l, ’, algérie, à,...\n",
       "6     [les, députés, du, pps, décortiquent, le, plf,...\n",
       "7     [[, +212, ], j, ’, ai, pris, la, meilleure, dé...\n",
       "8     [football, :, les, lions, d, ’, atlas, battent...\n",
       "9     [signature, de, jumelage, m, ’, diq, et, la, v...\n",
       "10    [le, prince, d'abu, dhabi, à, paris, :, les, o...\n",
       "Name: title, dtype: object"
      ]
     },
     "execution_count": 66,
     "metadata": {},
     "output_type": "execute_result"
    }
   ],
   "source": [
    "title=df['title']\n",
    "title=title.apply(word_tokenize)\n",
    "title"
   ]
  },
  {
   "cell_type": "markdown",
   "metadata": {},
   "source": [
    "# Remove stopwords & punctuations"
   ]
  },
  {
   "cell_type": "code",
   "execution_count": 106,
   "metadata": {
    "scrolled": true
   },
   "outputs": [],
   "source": [
    "stopwords_fr = set(stopwords.words('french'))\n",
    "stopwords_fr_withpunct = stopwords_fr.union(set(punctuation))"
   ]
  },
  {
   "cell_type": "code",
   "execution_count": 131,
   "metadata": {},
   "outputs": [
    {
     "name": "stdout",
     "output_type": "stream",
     "text": [
      "['pacte', 'mondial', 'migration', 'optimiste', 'veille', 'conférence', 'marrakech', 'marrakech-', 'africités', 'création', 'forum', 'régions', 'africaines', 'parlement', 'européen', 'vote', 'commission', 'confirme', 'vision', 'stratégique', 'relation', 'maroc-ue', 'maroc', 'lancement', 'réussi', 'deuxième', 'satellite', 'organisation', 'conjointe', 'mondial', '2030', 'entre', 'espagne', 'portugal', 'maroc', 'marine', 'royale', 'porte', 'assistance', 'voilier', 'battant', 'pavillon', 'suédois', 'difficulté', 'large', 'bouznika', 'sâad', 'eddine', 'othmani', 'inaugure', 'salon', 'international', 'bâtiment', 'mezouar', 'désigné', 'président', 'conseil', 'consultatif', 'medaweek', 'barcelone', 'lancement', 'succès', 'satellite', 'mohammed', 'vi-b', 'depuis', 'base', 'kourou', 'guyane', 'française', 'casablanca', 'connaît', 'déjà', 'favori', 'course', 'gestion', 'groupe', 'thales', 'nomme', 'nouveau', 'maroc', 'absences', 'annoncées', 'pacte', 'mondial', 'migrations', 'prévu', 'marrakech', 'mondial', 'conjoint', 'sceller', 'relations', 'séculaires', 'entre', 'rabat', 'madrid', 'coupe', 'monde', 'trois', 'pourquoi', 'star', 'zayn', 'malik', 'considère', 'plus', 'comme', 'musulman', 'éviter', 'froid', 'chiens', 'abandonnés', 'trouvent', 'refuge', 'ikea', 'aquaman', 'dévoile', 'bande-annonce', 'finale', 'snoop', 'dogg', 'félicite', 'snoop', 'dogg', 'étoile', 'hollywood', 'hailey', 'baldwin', 'justin', 'bieber', 'mariés', \"c'est\", 'officiel']\n"
     ]
    }
   ],
   "source": [
    "i=0\n",
    "for row in title:\n",
    "    row=[word for word in row if (word not in stopwords_fr_withpunct and len(word)>3)]\n",
    "    title[i]=row\n",
    "    i=i+1\n",
    "print(title[0])"
   ]
  },
  {
   "cell_type": "markdown",
   "metadata": {},
   "source": [
    "# Stemming and Lemmatization"
   ]
  },
  {
   "cell_type": "code",
   "execution_count": 142,
   "metadata": {},
   "outputs": [
    {
     "name": "stdout",
     "output_type": "stream",
     "text": [
      "['pact', 'mondial', 'migrat', 'optim', 'veil', 'conférent', 'marrakech', 'marrakech-', 'afriqu', 'création', 'forum', 'région', 'africain', 'parl', 'européen', 'vot', 'commiss', 'confirm', 'vision', 'strateg', 'relat', 'maroc-u', 'maroc', 'lanc', 'réuss', 'deuxiem', 'satellit', 'organis', 'conjoint', 'mondial', '2030', 'entre', 'espagn', 'portugal', 'maroc', 'marin', 'royal', 'port', 'assist', 'voili', 'batt', 'pavillon', 'suédois', 'difficult', 'larg', 'bouznik', 'sâad', 'eddin', 'othman', 'inaugur', 'salon', 'international', 'bât', 'mezouar', 'désign', 'président', 'conseil', 'consult', 'medaweek', 'barcelon', 'lanc', 'succes', 'satellit', 'mohammed', 'vi-b', 'depuis', 'bas', 'kourou', 'guyan', 'français', 'casablanc', 'connaît', 'déjà', 'favor', 'cours', 'gestion', 'group', 'thal', 'nomm', 'nouveau', 'maroc', 'absenc', 'annonc', 'pact', 'mondial', 'migrat', 'prévu', 'marrakech', 'mondial', 'conjoint', 'scel', 'relat', 'séculair', 'entre', 'rabat', 'madrid', 'coup', 'mond', 'trois', 'pourquoi', 'star', 'zayn', 'malik', 'consider', 'plus', 'comm', 'musulman', 'évit', 'froid', 'chien', 'abandon', 'trouvent', 'refug', 'ike', 'aquaman', 'dévoil', 'bande-annonc', 'final', 'snoop', 'dogg', 'félicit', 'snoop', 'dogg', 'étoil', 'hollywood', 'hailey', 'baldwin', 'justin', 'bieb', 'mari', \"c'est\", 'officiel']\n"
     ]
    }
   ],
   "source": [
    "\n",
    "englishStemmer=SnowballStemmer(\"french\")\n",
    "\n",
    "i=0\n",
    "for row in title:\n",
    "    row=[englishStemmer.stem(word) for word in row if (word not in stopwords_fr_withpunct and len(word)>3)]\n",
    "    title[i]=row\n",
    "    i=i+1\n",
    "print(title[0])"
   ]
  },
  {
   "cell_type": "code",
   "execution_count": 137,
   "metadata": {},
   "outputs": [],
   "source": [
    "from nltk.stem import WordNetLemmatizer\n",
    "wordnet_lemmatizer = WordNetLemmatizer()"
   ]
  },
  {
   "cell_type": "code",
   "execution_count": null,
   "metadata": {},
   "outputs": [],
   "source": []
  }
 ],
 "metadata": {
  "kernelspec": {
   "display_name": "Python 3",
   "language": "python",
   "name": "python3"
  },
  "language_info": {
   "codemirror_mode": {
    "name": "ipython",
    "version": 3
   },
   "file_extension": ".py",
   "mimetype": "text/x-python",
   "name": "python",
   "nbconvert_exporter": "python",
   "pygments_lexer": "ipython3",
   "version": "3.6.5"
  }
 },
 "nbformat": 4,
 "nbformat_minor": 2
}
