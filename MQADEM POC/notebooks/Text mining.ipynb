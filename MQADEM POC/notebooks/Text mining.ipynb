{
 "cells": [
  {
   "cell_type": "code",
   "execution_count": 1,
   "metadata": {},
   "outputs": [],
   "source": [
    "import pandas as pd\n",
    "import numpy as np"
   ]
  },
  {
   "cell_type": "code",
   "execution_count": 15,
   "metadata": {},
   "outputs": [],
   "source": [
    "#Now after we are done with some feature engineering & EDA let's dive into some text mining ! "
   ]
  },
  {
   "cell_type": "code",
   "execution_count": 12,
   "metadata": {},
   "outputs": [],
   "source": [
    "df = pd.read_csv('..//data//procced//eda.csv',encoding='cp1252')"
   ]
  },
  {
   "cell_type": "code",
   "execution_count": 14,
   "metadata": {},
   "outputs": [
    {
     "data": {
      "text/html": [
       "<div>\n",
       "<style scoped>\n",
       "    .dataframe tbody tr th:only-of-type {\n",
       "        vertical-align: middle;\n",
       "    }\n",
       "\n",
       "    .dataframe tbody tr th {\n",
       "        vertical-align: top;\n",
       "    }\n",
       "\n",
       "    .dataframe thead th {\n",
       "        text-align: right;\n",
       "    }\n",
       "</style>\n",
       "<table border=\"1\" class=\"dataframe\">\n",
       "  <thead>\n",
       "    <tr style=\"text-align: right;\">\n",
       "      <th></th>\n",
       "      <th>category</th>\n",
       "      <th>title</th>\n",
       "    </tr>\n",
       "  </thead>\n",
       "  <tbody>\n",
       "    <tr>\n",
       "      <th>0</th>\n",
       "      <td>actualite</td>\n",
       "      <td>pacte mondial sur la migration: l’onu optimist...</td>\n",
       "    </tr>\n",
       "    <tr>\n",
       "      <th>1</th>\n",
       "      <td>afrique</td>\n",
       "      <td>tunisie : les fonctionnaires du public en grèv...</td>\n",
       "    </tr>\n",
       "    <tr>\n",
       "      <th>2</th>\n",
       "      <td>culture</td>\n",
       "      <td>le fima célèbre son 20e anniversaire à dakhla ...</td>\n",
       "    </tr>\n",
       "    <tr>\n",
       "      <th>3</th>\n",
       "      <td>economie</td>\n",
       "      <td>sebta : les visiteurs marocains boostent l’éco...</td>\n",
       "    </tr>\n",
       "    <tr>\n",
       "      <th>4</th>\n",
       "      <td>international</td>\n",
       "      <td>nissan – carlos ghosn révoqué de son poste de ...</td>\n",
       "    </tr>\n",
       "    <tr>\n",
       "      <th>5</th>\n",
       "      <td>maroc</td>\n",
       "      <td>un début de réponse de l’algérie à mohammed vi...</td>\n",
       "    </tr>\n",
       "    <tr>\n",
       "      <th>6</th>\n",
       "      <td>politique</td>\n",
       "      <td>les députés du pps décortiquent le plf 2019 re...</td>\n",
       "    </tr>\n",
       "    <tr>\n",
       "      <th>7</th>\n",
       "      <td>societe</td>\n",
       "      <td>[+212] j’ai pris la meilleure décision de ma v...</td>\n",
       "    </tr>\n",
       "    <tr>\n",
       "      <th>8</th>\n",
       "      <td>sport</td>\n",
       "      <td>football: les lions d’atlas battent la tunisie...</td>\n",
       "    </tr>\n",
       "    <tr>\n",
       "      <th>9</th>\n",
       "      <td>tourisme</td>\n",
       "      <td>signature de jumelage m’diq et la ville frança...</td>\n",
       "    </tr>\n",
       "    <tr>\n",
       "      <th>10</th>\n",
       "      <td>video</td>\n",
       "      <td>le prince d'abu dhabi à paris : les ong demand...</td>\n",
       "    </tr>\n",
       "  </tbody>\n",
       "</table>\n",
       "</div>"
      ],
      "text/plain": [
       "         category                                              title\n",
       "0       actualite  pacte mondial sur la migration: l’onu optimist...\n",
       "1         afrique  tunisie : les fonctionnaires du public en grèv...\n",
       "2         culture  le fima célèbre son 20e anniversaire à dakhla ...\n",
       "3        economie  sebta : les visiteurs marocains boostent l’éco...\n",
       "4   international  nissan – carlos ghosn révoqué de son poste de ...\n",
       "5           maroc  un début de réponse de l’algérie à mohammed vi...\n",
       "6       politique  les députés du pps décortiquent le plf 2019 re...\n",
       "7         societe  [+212] j’ai pris la meilleure décision de ma v...\n",
       "8           sport  football: les lions d’atlas battent la tunisie...\n",
       "9        tourisme  signature de jumelage m’diq et la ville frança...\n",
       "10          video  le prince d'abu dhabi à paris : les ong demand..."
      ]
     },
     "execution_count": 14,
     "metadata": {},
     "output_type": "execute_result"
    }
   ],
   "source": []
  },
  {
   "cell_type": "code",
   "execution_count": null,
   "metadata": {},
   "outputs": [],
   "source": []
  }
 ],
 "metadata": {
  "kernelspec": {
   "display_name": "Python 3",
   "language": "python",
   "name": "python3"
  },
  "language_info": {
   "codemirror_mode": {
    "name": "ipython",
    "version": 3
   },
   "file_extension": ".py",
   "mimetype": "text/x-python",
   "name": "python",
   "nbconvert_exporter": "python",
   "pygments_lexer": "ipython3",
   "version": "3.7.0"
  }
 },
 "nbformat": 4,
 "nbformat_minor": 2
}
