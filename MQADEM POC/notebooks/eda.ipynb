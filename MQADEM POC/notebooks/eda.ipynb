{
 "cells": [
  {
   "cell_type": "code",
   "execution_count": 1,
   "metadata": {
    "colab": {},
    "colab_type": "code",
    "id": "TJV26WUzXAIu"
   },
   "outputs": [],
   "source": [
    "import pandas as pd"
   ]
  },
  {
   "cell_type": "code",
   "execution_count": null,
   "metadata": {
    "colab": {
     "base_uri": "https://localhost:8080/",
     "height": 511
    },
    "colab_type": "code",
    "id": "QEhmnRpTXAJA",
    "outputId": "b0b1c8f7-5be4-44e2-f5e6-424948ef0618"
   },
   "outputs": [],
   "source": [
    "# Create URL to JSON file (alternatively this can be a filepath)\n",
    "url = 'https://api.myjson.com/bins/hozwe'\n",
    "\n",
    "# Load the first sheet of the JSON file into a data frame\n",
    "df = pd.read_json(url, orient='columns')\n",
    "\n",
    "# View the first ten rows\n",
    "df.head(10)"
   ]
  },
  {
   "cell_type": "code",
   "execution_count": null,
   "metadata": {
    "colab": {
     "base_uri": "https://localhost:8080/",
     "height": 166
    },
    "colab_type": "code",
    "id": "w721sJY4XAJN",
    "outputId": "073fbab3-19c3-4078-b01f-a7a041b10aca"
   },
   "outputs": [],
   "source": [
    "df.describe()\n",
    "#we have 57 differente category, 671 line\n"
   ]
  },
  {
   "cell_type": "code",
   "execution_count": null,
   "metadata": {
    "colab": {},
    "colab_type": "code",
    "id": "Qc5mZ6jinR0-"
   },
   "outputs": [],
   "source": [
    "#removing NAN categories\n",
    "import numpy as np\n",
    "df=df[df['category'] != 'NaN']\n"
   ]
  },
  {
   "cell_type": "code",
   "execution_count": null,
   "metadata": {
    "colab": {
     "base_uri": "https://localhost:8080/",
     "height": 166
    },
    "colab_type": "code",
    "id": "X2Yd8VJxnmk8",
    "outputId": "bc1f71ae-4924-4ea6-c81b-55bdb99e42f5"
   },
   "outputs": [],
   "source": [
    "#we can see that after deleting the NaN values in category we got only 423 lines left!\n",
    "df.describe()"
   ]
  },
  {
   "cell_type": "markdown",
   "metadata": {
    "colab_type": "text",
    "id": "9MXt5vTYpuGh"
   },
   "source": [
    "#we can see that after deleting the NaN values in category we got only 423 lines left!\n",
    "\n",
    "#We should only keep category and title."
   ]
  },
  {
   "cell_type": "code",
   "execution_count": null,
   "metadata": {
    "colab": {},
    "colab_type": "code",
    "id": "EigRXoKPps7p"
   },
   "outputs": [],
   "source": [
    "dfn = df[['title','category']]"
   ]
  },
  {
   "cell_type": "code",
   "execution_count": null,
   "metadata": {
    "colab": {
     "base_uri": "https://localhost:8080/",
     "height": 195
    },
    "colab_type": "code",
    "id": "bFU8rOxKqKLm",
    "outputId": "de9695fa-77fd-40b7-8d01-252a0698b805"
   },
   "outputs": [],
   "source": [
    "dfn.head()"
   ]
  },
  {
   "cell_type": "markdown",
   "metadata": {
    "colab_type": "text",
    "id": "wWoDTqWoqNIJ"
   },
   "source": [
    "#Lets make a bar plot of the categories."
   ]
  },
  {
   "cell_type": "code",
   "execution_count": null,
   "metadata": {
    "colab": {
     "base_uri": "https://localhost:8080/",
     "height": 450
    },
    "colab_type": "code",
    "id": "EXgK2qwwqYYa",
    "outputId": "12b985c7-0798-402e-fa96-ff14b4c87b88"
   },
   "outputs": [],
   "source": [
    "df['category'].value_counts().plot(kind=\"bar\")"
   ]
  },
  {
   "cell_type": "markdown",
   "metadata": {
    "colab_type": "text",
    "id": "4KNdhizcrEZi"
   },
   "source": [
    "#En continu category is the most occuring category in the dataframe, thus it is not significant for us, so we should drop all the rows containing this category."
   ]
  },
  {
   "cell_type": "code",
   "execution_count": null,
   "metadata": {
    "colab": {},
    "colab_type": "code",
    "id": "hqhLrYsDraxm"
   },
   "outputs": [],
   "source": [
    "dfn=dfn[dfn['category'] != 'En Continu']"
   ]
  },
  {
   "cell_type": "code",
   "execution_count": null,
   "metadata": {
    "colab": {
     "base_uri": "https://localhost:8080/",
     "height": 166
    },
    "colab_type": "code",
    "id": "IQTInczrrfNd",
    "outputId": "f4e829a3-85bc-4336-8513-51a624eb2e38"
   },
   "outputs": [],
   "source": [
    "dfn.describe()"
   ]
  },
  {
   "cell_type": "code",
   "execution_count": null,
   "metadata": {
    "colab": {
     "base_uri": "https://localhost:8080/",
     "height": 958
    },
    "colab_type": "code",
    "id": "3aRWPEkRrgO3",
    "outputId": "6d5892d4-f772-4446-ded2-1afd4287c907"
   },
   "outputs": [],
   "source": [
    "dfn['category'].value_counts()"
   ]
  },
  {
   "cell_type": "code",
   "execution_count": null,
   "metadata": {
    "colab": {
     "base_uri": "https://localhost:8080/",
     "height": 134
    },
    "colab_type": "code",
    "id": "C1MKbiIrrqGU",
    "outputId": "8d502240-d68f-4bcf-920f-be2f24c138f6"
   },
   "outputs": [],
   "source": [
    "dfn.info()"
   ]
  },
  {
   "cell_type": "code",
   "execution_count": null,
   "metadata": {
    "colab": {},
    "colab_type": "code",
    "id": "GsKcVlfQsoRK"
   },
   "outputs": [],
   "source": [
    "dfn = dfn.groupby('category').filter(lambda x : (x['category'].count()>=4).any())"
   ]
  },
  {
   "cell_type": "code",
   "execution_count": null,
   "metadata": {
    "colab": {
     "base_uri": "https://localhost:8080/",
     "height": 386
    },
    "colab_type": "code",
    "id": "nArllJwrxhOn",
    "outputId": "ef48de13-3393-4ced-c879-d04e2b1c0584"
   },
   "outputs": [],
   "source": [
    "dfn['category'].value_counts()"
   ]
  },
  {
   "cell_type": "markdown",
   "metadata": {
    "colab_type": "text",
    "id": "_pUChjIQx9Lx"
   },
   "source": [
    "#Now we should combine some categories because they are the same, just the typing is not"
   ]
  },
  {
   "cell_type": "code",
   "execution_count": null,
   "metadata": {
    "colab": {
     "base_uri": "https://localhost:8080/",
     "height": 438
    },
    "colab_type": "code",
    "id": "fn2I42kNxnwV",
    "outputId": "3a52e97f-2bfd-497e-f08e-9f786f525f6e"
   },
   "outputs": [],
   "source": [
    "dfn['category'].value_counts().plot(kind=\"bar\")"
   ]
  },
  {
   "cell_type": "code",
   "execution_count": null,
   "metadata": {
    "colab": {},
    "colab_type": "code",
    "id": "Nw49OaRT0bXQ"
   },
   "outputs": [],
   "source": [
    "#Lets clean data more!"
   ]
  },
  {
   "cell_type": "code",
   "execution_count": null,
   "metadata": {
    "colab": {},
    "colab_type": "code",
    "id": "JTw8iPFe6zX4"
   },
   "outputs": [],
   "source": [
    "dfn = dfn.applymap(str.lower)"
   ]
  },
  {
   "cell_type": "code",
   "execution_count": null,
   "metadata": {
    "colab": {
     "base_uri": "https://localhost:8080/",
     "height": 343
    },
    "colab_type": "code",
    "id": "RLFAmRSM67Qd",
    "outputId": "90278a96-db99-43f4-9d24-e1b2cdbca2cb"
   },
   "outputs": [],
   "source": [
    "dfn.head(10)"
   ]
  },
  {
   "cell_type": "code",
   "execution_count": null,
   "metadata": {
    "colab": {
     "base_uri": "https://localhost:8080/",
     "height": 34
    },
    "colab_type": "code",
    "id": "rSjJT9z-7PKE",
    "outputId": "994b1f65-fc58-46d4-af60-5f5de3396c9e"
   },
   "outputs": [],
   "source": [
    "dfn.shape"
   ]
  },
  {
   "cell_type": "code",
   "execution_count": null,
   "metadata": {
    "colab": {
     "base_uri": "https://localhost:8080/",
     "height": 669
    },
    "colab_type": "code",
    "id": "4dcG1qOmKQUN",
    "outputId": "2d49902c-b1f5-4295-ecf2-3cab8930acf8"
   },
   "outputs": [],
   "source": [
    "newdf = dfn.groupby('category')['title'].apply(' '.join).reset_index()\n",
    "newdf"
   ]
  },
  {
   "cell_type": "code",
   "execution_count": null,
   "metadata": {
    "colab": {
     "base_uri": "https://localhost:8080/",
     "height": 669
    },
    "colab_type": "code",
    "id": "Ak6OQujvKyTA",
    "outputId": "f0479a15-826a-4834-dd1a-71786274f395"
   },
   "outputs": [],
   "source": [
    "new_column = pd.Series(['actualite'], name='category', index=[0,1,3])\n",
    "newdf.update(new_column)\n",
    "new_column = pd.Series(['culture'], name='category', index=[4,5])\n",
    "newdf.update(new_column)\n",
    "new_column = pd.Series(['economie'], name='category', index=[7,20])\n",
    "newdf.update(new_column)\n",
    "new_column = pd.Series(['international'], name='category', index=[9,11])\n",
    "newdf.update(new_column)\n",
    "new_column = pd.Series(['societe'], name='category', index=[13,14,15])\n",
    "newdf.update(new_column)\n",
    "new_column = pd.Series(['video'], name='category', index=[18,19])\n",
    "newdf.update(new_column)\n",
    "newdf"
   ]
  },
  {
   "cell_type": "code",
   "execution_count": null,
   "metadata": {
    "colab": {
     "base_uri": "https://localhost:8080/",
     "height": 373
    },
    "colab_type": "code",
    "id": "6IVMGE1dL82Z",
    "outputId": "622ac7a7-7618-4f4d-8ab6-ca02469e238d"
   },
   "outputs": [],
   "source": [
    "newdf = newdf.groupby('category')['title'].apply(' '.join).reset_index()\n",
    "newdf\n"
   ]
  },
  {
   "cell_type": "markdown",
   "metadata": {
    "colab_type": "text",
    "id": "nacFtQh-rD3c"
   },
   "source": [
    "#Now we have 11 categories only !"
   ]
  },
  {
   "cell_type": "code",
   "execution_count": null,
   "metadata": {
    "colab": {
     "base_uri": "https://localhost:8080/",
     "height": 373
    },
    "colab_type": "code",
    "id": "pcCIpxkjNtpp",
    "outputId": "294120a9-c3a0-48a6-ea26-724f344da7f1"
   },
   "outputs": [],
   "source": [
    "newdf.reset_index(drop=True, inplace=True)\n",
    "newdf"
   ]
  },
  {
   "cell_type": "code",
   "execution_count": null,
   "metadata": {
    "colab": {},
    "colab_type": "code",
    "id": "KOGMr2G1flMp"
   },
   "outputs": [],
   "source": []
  },
  {
   "cell_type": "code",
   "execution_count": null,
   "metadata": {},
   "outputs": [],
   "source": []
  }
 ],
 "metadata": {
  "colab": {
   "collapsed_sections": [],
   "name": "MQADEM.ipynb",
   "provenance": [],
   "toc_visible": true,
   "version": "0.3.2"
  },
  "kernelspec": {
   "display_name": "Python 3",
   "language": "python",
   "name": "python3"
  },
  "language_info": {
   "codemirror_mode": {
    "name": "ipython",
    "version": 3
   },
   "file_extension": ".py",
   "mimetype": "text/x-python",
   "name": "python",
   "nbconvert_exporter": "python",
   "pygments_lexer": "ipython3",
   "version": "3.7.0"
  }
 },
 "nbformat": 4,
 "nbformat_minor": 1
}
